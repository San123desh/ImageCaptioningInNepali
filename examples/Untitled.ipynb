{
 "cells": [
  {
   "cell_type": "code",
   "execution_count": 1,
   "id": "b0da748a-0e73-4194-b3e9-b306cd5e8df1",
   "metadata": {},
   "outputs": [],
   "source": [
    "import torch"
   ]
  },
  {
   "cell_type": "code",
   "execution_count": 2,
   "id": "d417626a-ba7c-48e4-9008-beb0bdce6419",
   "metadata": {},
   "outputs": [
    {
     "name": "stdout",
     "output_type": "stream",
     "text": [
      "PyTorch version: 2.2.1+cu121\n",
      "CUDA available: True\n",
      "CUDA version: 12.1\n",
      "Number of GPUs: 1\n",
      "GPU Name: NVIDIA GeForce RTX 4060 Laptop GPU\n"
     ]
    }
   ],
   "source": [
    "\n",
    "print(f\"PyTorch version: {torch.__version__}\")\n",
    "print(f\"CUDA available: {torch.cuda.is_available()}\")\n",
    "print(f\"CUDA version: {torch.version.cuda}\")\n",
    "\n",
    "if torch.cuda.is_available():\n",
    "    print(f\"Number of GPUs: {torch.cuda.device_count()}\")\n",
    "    print(f\"GPU Name: {torch.cuda.get_device_name(0)}\")\n",
    "else:\n",
    "    print(\"CUDA is not available.\")\n"
   ]
  },
  {
   "cell_type": "code",
   "execution_count": 3,
   "id": "cd0cf016-19db-4268-b7d9-3b48f2bb3407",
   "metadata": {
    "scrolled": true
   },
   "outputs": [],
   "source": [
    "# !pip install transformers\n",
    "# !pip install torch\n",
    "# !pip3 install sentencepiece\n",
    "# !pip install tensorflow keras opencv-python-headless nltk\n",
    "# !pip install tensorflow\n",
    "# !pip install nltk\n"
   ]
  },
  {
   "cell_type": "code",
   "execution_count": 4,
   "id": "9f275d68-aa24-446b-b2ee-af185c6be6b6",
   "metadata": {},
   "outputs": [
    {
     "name": "stdout",
     "output_type": "stream",
     "text": [
      "Python 3.9.19\n"
     ]
    }
   ],
   "source": [
    "!python --version"
   ]
  },
  {
   "cell_type": "code",
   "execution_count": 5,
   "id": "efe187a6",
   "metadata": {},
   "outputs": [
    {
     "name": "stdout",
     "output_type": "stream",
     "text": [
      "WARNING:tensorflow:From C:\\Users\\Acer\\anaconda3\\Lib\\site-packages\\keras\\src\\losses.py:2976: The name tf.losses.sparse_softmax_cross_entropy is deprecated. Please use tf.compat.v1.losses.sparse_softmax_cross_entropy instead.\n",
      "\n"
     ]
    }
   ],
   "source": [
    "\n",
    "import transformers\n",
    "import torch\n",
    "import sentencepiece\n",
    "import tensorflow\n",
    "import keras\n",
    "import cv2\n",
    "import nltk\n"
   ]
  },
  {
   "cell_type": "code",
   "execution_count": 6,
   "id": "de23870f-8007-417e-bfd8-344c583e3fc8",
   "metadata": {},
   "outputs": [
    {
     "name": "stdout",
     "output_type": "stream",
     "text": [
      "['C:\\\\Users\\\\Acer\\\\ImageCaptioning', 'C:\\\\Users\\\\Acer\\\\anaconda3\\\\python311.zip', 'C:\\\\Users\\\\Acer\\\\anaconda3\\\\DLLs', 'C:\\\\Users\\\\Acer\\\\anaconda3\\\\Lib', 'C:\\\\Users\\\\Acer\\\\anaconda3', '', 'C:\\\\Users\\\\Acer\\\\anaconda3\\\\Lib\\\\site-packages', 'c:\\\\users\\\\acer\\\\mlprojects', 'C:\\\\Users\\\\Acer\\\\anaconda3\\\\Lib\\\\site-packages\\\\win32', 'C:\\\\Users\\\\Acer\\\\anaconda3\\\\Lib\\\\site-packages\\\\win32\\\\lib', 'C:\\\\Users\\\\Acer\\\\anaconda3\\\\Lib\\\\site-packages\\\\Pythonwin']\n"
     ]
    }
   ],
   "source": [
    "import sys\n",
    "print(sys.path)\n"
   ]
  },
  {
   "cell_type": "code",
   "execution_count": 7,
   "id": "b0e1706b",
   "metadata": {},
   "outputs": [],
   "source": [
    "# images_path = 'C:\\7thsem\\images_file'"
   ]
  },
  {
   "cell_type": "code",
   "execution_count": 8,
   "id": "5ebe725c",
   "metadata": {},
   "outputs": [],
   "source": [
    "captions_dict = {\n",
    "    '1.jpg': 'Girl with fake mustache and eyebrows',\n",
    "    '2.jpg': 'Three boys smiling at the camera',\n",
    "    '3.jpg': 'A happy couple',\n",
    "    '4.jpg': 'Girl dancing in traditional attire',\n",
    "    '5.jpg': 'Boy wearing glasses writing on a copy',\n",
    "    '6.jpg': 'Cat playing with a flower',\n",
    "    '7.jpg': 'Pouring milk on Oreo biscuits',\n",
    "    '8.jpg': 'A shelter with many guinea pigs',\n",
    "    '9.jpg': 'Hand holding three beautiful flowers',\n",
    "    '10.jpg': 'Drone flying on the street',\n",
    "    '11.jpg': 'Bus parked in front of a house',\n",
    "    '12.jpg': 'A view of a beautiful peak',\n",
    "    '13.jpg': 'Children playing football on the field',\n",
    "    '14.jpg': 'Girls playing hockey on the field',\n",
    "    '15.jpg': 'Three boys playing American football',\n",
    "    '16.jpg': 'Football players playing football',\n",
    "    '17.jpg': 'Bear playing in muddy water',\n",
    "    '18.jpg': 'Sheep looking at the camera',\n",
    "    '19.jpg': 'Player playing basketball',\n",
    "    '20.jpg': 'Tiger swimming in the river',\n",
    "    '21.jpg': 'Two kickboxers fighting in the ring',\n",
    "    '22.jpg': 'Warriors fighting in a battle',\n",
    "    '23.jpg': 'Two roosters fighting',\n",
    "    '24.jpg': 'A jaguar killing a crocodile in the river',\n",
    "    '25.jpg': 'Baby crying on camera',\n",
    "    '26.jpg': 'People working together in an office',\n",
    "    '27.jpg': 'Three women discussing',\n",
    "    '28.jpg': 'Monkey playing guitar',\n",
    "    '29.jpg': 'Workers working in a factory',\n",
    "    '30.jpg': 'A man showing a gun',\n",
    "    '31.jpg': 'People dancing at a party',\n",
    "    '32.jpg': 'A funny man showing a banana like a gun',\n",
    "    '33.jpg': 'A happy man holding a pineapple',\n",
    "    '34.jpg': 'A man playing drums',\n",
    "    '35.jpg': 'Old broken Nokia phone',\n",
    "    '36.jpg': 'Players playing cricket on the pitch',\n",
    "    '37.jpg': 'Dog wearing a watermelon hat',\n",
    "    '38.jpg': 'Two people skydiving',\n",
    "    '39.jpg': 'Launching a big ship in the water',\n",
    "    '40.jpg': 'People fishing in the sea',\n",
    "    '41.jpg': 'Dog wearing a blanket',\n",
    "    '42.jpg': 'People enjoying the rain',\n",
    "    '43.jpg': 'A man happily riding his bicycle',\n",
    "    '44.jpg': 'Mother carrying her baby',\n",
    "    '45.jpg': 'A girl playing her guitar on the street',\n",
    "    '46.jpg': 'Crow stealing food from a dog’s bowl',\n",
    "    '47.jpg': 'An airplane in the middle of the jungle',\n",
    "    '48.jpg': 'Alligator walking on a golf course',\n",
    "    '49.jpg': 'A girl lying on the floor in a room',\n",
    "    '50.jpg': 'Three chickens standing at the window',\n",
    "    '51.jpeg': 'A baby eating a big cookie wearing a blue jacket and orange sleeves',\n",
    "    '52.jpeg': 'A lone tree standing by the seaside under a blue sky',\n",
    "    '53.jpeg': 'A person with a camera taking photos during a golden sunset',\n",
    "    '54.jpeg': 'A little girl smiling against a bright blue background',\n",
    "    '55.jpeg': 'A cheesy burger with fries and a drink',\n",
    "    '56.jpeg': 'A beautiful purple flower',\n",
    "    '57.jpeg': 'Three children standing with serious expressions',\n",
    "    '58.jpeg': 'The king of the jungle, a lion, resting in its territory',\n",
    "    '59.jpeg': 'Two small children holding hands and smiling as the sun sets',\n",
    "    '60.jpeg': 'An airplane flying in the sky',\n",
    "    '61.jpeg': 'A man riding a bike on the street',\n",
    "    '62.jpeg': 'A dog smiling at the camera',\n",
    "    '63.jpeg': 'A man washing his hands at a tap',\n",
    "    '64.jpeg': 'Two men dressed as Spiderman',\n",
    "    '65.jpeg': 'A red car speeding on the road',\n",
    "    '66.jpeg': 'An orange cat looking at the camera',\n",
    "    '67.jpeg': 'An old house between trees in a field',\n",
    "    '68.jpeg': 'A tiger looking at the camera',\n",
    "    '69.jpeg': 'A male peacock',\n",
    "    '70.jpeg': 'A girl holding a dog’s paw',\n",
    "    '71.jpeg': 'A chair inside a dark warehouse',\n",
    "    '72.jpeg': 'A digital image showing the solar system',\n",
    "    '73.jpeg': 'A beautiful view of the Taj Mahal',\n",
    "    '74.jpeg': 'An open book on the floor',\n",
    "    '75.jpeg': 'A man showing his money',\n",
    "    '76.jpeg': 'A dog playing in the river',\n",
    "    '77.jpeg': 'A sunrise view behind a coconut tree',\n",
    "    '78.jpeg': 'A bird standing on a tree branch',\n",
    "    '79.jpeg': 'Various types of fruits on a table',\n",
    "    '80.jpeg': 'A beautiful view of a mountain peak'\n",
    "}"
   ]
  },
  {
   "cell_type": "code",
   "execution_count": 9,
   "id": "1d415791",
   "metadata": {},
   "outputs": [],
   "source": [
    "# !pip install googletrans==3.1.0a0\n"
   ]
  },
  {
   "cell_type": "code",
   "execution_count": 10,
   "id": "c610eeab",
   "metadata": {
    "scrolled": true
   },
   "outputs": [
    {
     "ename": "ConnectError",
     "evalue": "[Errno 11001] getaddrinfo failed",
     "output_type": "error",
     "traceback": [
      "\u001B[1;31m---------------------------------------------------------------------------\u001B[0m",
      "\u001B[1;31mConnectError\u001B[0m                              Traceback (most recent call last)",
      "Cell \u001B[1;32mIn[10], line 8\u001B[0m\n\u001B[0;32m      6\u001B[0m nepali_captions \u001B[38;5;241m=\u001B[39m {}\n\u001B[0;32m      7\u001B[0m \u001B[38;5;28;01mfor\u001B[39;00m img, caption \u001B[38;5;129;01min\u001B[39;00m captions_dict\u001B[38;5;241m.\u001B[39mitems():\n\u001B[1;32m----> 8\u001B[0m     translated_caption \u001B[38;5;241m=\u001B[39m translator\u001B[38;5;241m.\u001B[39mtranslate(caption, src\u001B[38;5;241m=\u001B[39m\u001B[38;5;124m'\u001B[39m\u001B[38;5;124men\u001B[39m\u001B[38;5;124m'\u001B[39m, dest\u001B[38;5;241m=\u001B[39m\u001B[38;5;124m'\u001B[39m\u001B[38;5;124mne\u001B[39m\u001B[38;5;124m'\u001B[39m)\u001B[38;5;241m.\u001B[39mtext\n\u001B[0;32m      9\u001B[0m     nepali_captions[img] \u001B[38;5;241m=\u001B[39m translated_caption\n\u001B[0;32m     10\u001B[0m     \u001B[38;5;66;03m# print(translated_caption)\u001B[39;00m\n",
      "File \u001B[1;32m~\\anaconda3\\Lib\\site-packages\\googletrans\\client.py:210\u001B[0m, in \u001B[0;36mTranslator.translate\u001B[1;34m(self, text, dest, src, **kwargs)\u001B[0m\n\u001B[0;32m    207\u001B[0m     \u001B[38;5;28;01mreturn\u001B[39;00m result\n\u001B[0;32m    209\u001B[0m origin \u001B[38;5;241m=\u001B[39m text\n\u001B[1;32m--> 210\u001B[0m data, response \u001B[38;5;241m=\u001B[39m \u001B[38;5;28mself\u001B[39m\u001B[38;5;241m.\u001B[39m_translate(text, dest, src, kwargs)\n\u001B[0;32m    212\u001B[0m \u001B[38;5;66;03m# this code will be updated when the format is changed.\u001B[39;00m\n\u001B[0;32m    213\u001B[0m translated \u001B[38;5;241m=\u001B[39m \u001B[38;5;124m'\u001B[39m\u001B[38;5;124m'\u001B[39m\u001B[38;5;241m.\u001B[39mjoin([d[\u001B[38;5;241m0\u001B[39m] \u001B[38;5;28;01mif\u001B[39;00m d[\u001B[38;5;241m0\u001B[39m] \u001B[38;5;28;01melse\u001B[39;00m \u001B[38;5;124m'\u001B[39m\u001B[38;5;124m'\u001B[39m \u001B[38;5;28;01mfor\u001B[39;00m d \u001B[38;5;129;01min\u001B[39;00m data[\u001B[38;5;241m0\u001B[39m]])\n",
      "File \u001B[1;32m~\\anaconda3\\Lib\\site-packages\\googletrans\\client.py:108\u001B[0m, in \u001B[0;36mTranslator._translate\u001B[1;34m(self, text, dest, src, override)\u001B[0m\n\u001B[0;32m    104\u001B[0m params \u001B[38;5;241m=\u001B[39m utils\u001B[38;5;241m.\u001B[39mbuild_params(client\u001B[38;5;241m=\u001B[39m\u001B[38;5;28mself\u001B[39m\u001B[38;5;241m.\u001B[39mclient_type, query\u001B[38;5;241m=\u001B[39mtext, src\u001B[38;5;241m=\u001B[39msrc, dest\u001B[38;5;241m=\u001B[39mdest,\n\u001B[0;32m    105\u001B[0m                             token\u001B[38;5;241m=\u001B[39mtoken, override\u001B[38;5;241m=\u001B[39moverride)\n\u001B[0;32m    107\u001B[0m url \u001B[38;5;241m=\u001B[39m urls\u001B[38;5;241m.\u001B[39mTRANSLATE\u001B[38;5;241m.\u001B[39mformat(host\u001B[38;5;241m=\u001B[39m\u001B[38;5;28mself\u001B[39m\u001B[38;5;241m.\u001B[39m_pick_service_url())\n\u001B[1;32m--> 108\u001B[0m r \u001B[38;5;241m=\u001B[39m \u001B[38;5;28mself\u001B[39m\u001B[38;5;241m.\u001B[39mclient\u001B[38;5;241m.\u001B[39mget(url, params\u001B[38;5;241m=\u001B[39mparams)\n\u001B[0;32m    110\u001B[0m \u001B[38;5;28;01mif\u001B[39;00m r\u001B[38;5;241m.\u001B[39mstatus_code \u001B[38;5;241m==\u001B[39m \u001B[38;5;241m200\u001B[39m:\n\u001B[0;32m    111\u001B[0m     data \u001B[38;5;241m=\u001B[39m utils\u001B[38;5;241m.\u001B[39mformat_json(r\u001B[38;5;241m.\u001B[39mtext)\n",
      "File \u001B[1;32m~\\anaconda3\\Lib\\site-packages\\httpx\\_client.py:755\u001B[0m, in \u001B[0;36mClient.get\u001B[1;34m(self, url, params, headers, cookies, auth, allow_redirects, timeout)\u001B[0m\n\u001B[0;32m    744\u001B[0m \u001B[38;5;28;01mdef\u001B[39;00m \u001B[38;5;21mget\u001B[39m(\n\u001B[0;32m    745\u001B[0m     \u001B[38;5;28mself\u001B[39m,\n\u001B[0;32m    746\u001B[0m     url: URLTypes,\n\u001B[1;32m   (...)\u001B[0m\n\u001B[0;32m    753\u001B[0m     timeout: typing\u001B[38;5;241m.\u001B[39mUnion[TimeoutTypes, UnsetType] \u001B[38;5;241m=\u001B[39m UNSET,\n\u001B[0;32m    754\u001B[0m ) \u001B[38;5;241m-\u001B[39m\u001B[38;5;241m>\u001B[39m Response:\n\u001B[1;32m--> 755\u001B[0m     \u001B[38;5;28;01mreturn\u001B[39;00m \u001B[38;5;28mself\u001B[39m\u001B[38;5;241m.\u001B[39mrequest(\n\u001B[0;32m    756\u001B[0m         \u001B[38;5;124m\"\u001B[39m\u001B[38;5;124mGET\u001B[39m\u001B[38;5;124m\"\u001B[39m,\n\u001B[0;32m    757\u001B[0m         url,\n\u001B[0;32m    758\u001B[0m         params\u001B[38;5;241m=\u001B[39mparams,\n\u001B[0;32m    759\u001B[0m         headers\u001B[38;5;241m=\u001B[39mheaders,\n\u001B[0;32m    760\u001B[0m         cookies\u001B[38;5;241m=\u001B[39mcookies,\n\u001B[0;32m    761\u001B[0m         auth\u001B[38;5;241m=\u001B[39mauth,\n\u001B[0;32m    762\u001B[0m         allow_redirects\u001B[38;5;241m=\u001B[39mallow_redirects,\n\u001B[0;32m    763\u001B[0m         timeout\u001B[38;5;241m=\u001B[39mtimeout,\n\u001B[0;32m    764\u001B[0m     )\n",
      "File \u001B[1;32m~\\anaconda3\\Lib\\site-packages\\httpx\\_client.py:600\u001B[0m, in \u001B[0;36mClient.request\u001B[1;34m(self, method, url, data, files, json, params, headers, cookies, auth, allow_redirects, timeout)\u001B[0m\n\u001B[0;32m    575\u001B[0m \u001B[38;5;28;01mdef\u001B[39;00m \u001B[38;5;21mrequest\u001B[39m(\n\u001B[0;32m    576\u001B[0m     \u001B[38;5;28mself\u001B[39m,\n\u001B[0;32m    577\u001B[0m     method: \u001B[38;5;28mstr\u001B[39m,\n\u001B[1;32m   (...)\u001B[0m\n\u001B[0;32m    588\u001B[0m     timeout: typing\u001B[38;5;241m.\u001B[39mUnion[TimeoutTypes, UnsetType] \u001B[38;5;241m=\u001B[39m UNSET,\n\u001B[0;32m    589\u001B[0m ) \u001B[38;5;241m-\u001B[39m\u001B[38;5;241m>\u001B[39m Response:\n\u001B[0;32m    590\u001B[0m     request \u001B[38;5;241m=\u001B[39m \u001B[38;5;28mself\u001B[39m\u001B[38;5;241m.\u001B[39mbuild_request(\n\u001B[0;32m    591\u001B[0m         method\u001B[38;5;241m=\u001B[39mmethod,\n\u001B[0;32m    592\u001B[0m         url\u001B[38;5;241m=\u001B[39murl,\n\u001B[1;32m   (...)\u001B[0m\n\u001B[0;32m    598\u001B[0m         cookies\u001B[38;5;241m=\u001B[39mcookies,\n\u001B[0;32m    599\u001B[0m     )\n\u001B[1;32m--> 600\u001B[0m     \u001B[38;5;28;01mreturn\u001B[39;00m \u001B[38;5;28mself\u001B[39m\u001B[38;5;241m.\u001B[39msend(\n\u001B[0;32m    601\u001B[0m         request, auth\u001B[38;5;241m=\u001B[39mauth, allow_redirects\u001B[38;5;241m=\u001B[39mallow_redirects, timeout\u001B[38;5;241m=\u001B[39mtimeout,\n\u001B[0;32m    602\u001B[0m     )\n",
      "File \u001B[1;32m~\\anaconda3\\Lib\\site-packages\\httpx\\_client.py:620\u001B[0m, in \u001B[0;36mClient.send\u001B[1;34m(self, request, stream, auth, allow_redirects, timeout)\u001B[0m\n\u001B[0;32m    616\u001B[0m timeout \u001B[38;5;241m=\u001B[39m \u001B[38;5;28mself\u001B[39m\u001B[38;5;241m.\u001B[39mtimeout \u001B[38;5;28;01mif\u001B[39;00m \u001B[38;5;28misinstance\u001B[39m(timeout, UnsetType) \u001B[38;5;28;01melse\u001B[39;00m Timeout(timeout)\n\u001B[0;32m    618\u001B[0m auth \u001B[38;5;241m=\u001B[39m \u001B[38;5;28mself\u001B[39m\u001B[38;5;241m.\u001B[39mbuild_auth(request, auth)\n\u001B[1;32m--> 620\u001B[0m response \u001B[38;5;241m=\u001B[39m \u001B[38;5;28mself\u001B[39m\u001B[38;5;241m.\u001B[39msend_handling_redirects(\n\u001B[0;32m    621\u001B[0m     request, auth\u001B[38;5;241m=\u001B[39mauth, timeout\u001B[38;5;241m=\u001B[39mtimeout, allow_redirects\u001B[38;5;241m=\u001B[39mallow_redirects,\n\u001B[0;32m    622\u001B[0m )\n\u001B[0;32m    624\u001B[0m \u001B[38;5;28;01mif\u001B[39;00m \u001B[38;5;129;01mnot\u001B[39;00m stream:\n\u001B[0;32m    625\u001B[0m     \u001B[38;5;28;01mtry\u001B[39;00m:\n",
      "File \u001B[1;32m~\\anaconda3\\Lib\\site-packages\\httpx\\_client.py:647\u001B[0m, in \u001B[0;36mClient.send_handling_redirects\u001B[1;34m(self, request, auth, timeout, allow_redirects, history)\u001B[0m\n\u001B[0;32m    644\u001B[0m \u001B[38;5;28;01mif\u001B[39;00m \u001B[38;5;28mlen\u001B[39m(history) \u001B[38;5;241m>\u001B[39m \u001B[38;5;28mself\u001B[39m\u001B[38;5;241m.\u001B[39mmax_redirects:\n\u001B[0;32m    645\u001B[0m     \u001B[38;5;28;01mraise\u001B[39;00m TooManyRedirects()\n\u001B[1;32m--> 647\u001B[0m response \u001B[38;5;241m=\u001B[39m \u001B[38;5;28mself\u001B[39m\u001B[38;5;241m.\u001B[39msend_handling_auth(\n\u001B[0;32m    648\u001B[0m     request, auth\u001B[38;5;241m=\u001B[39mauth, timeout\u001B[38;5;241m=\u001B[39mtimeout, history\u001B[38;5;241m=\u001B[39mhistory\n\u001B[0;32m    649\u001B[0m )\n\u001B[0;32m    650\u001B[0m response\u001B[38;5;241m.\u001B[39mhistory \u001B[38;5;241m=\u001B[39m \u001B[38;5;28mlist\u001B[39m(history)\n\u001B[0;32m    652\u001B[0m \u001B[38;5;28;01mif\u001B[39;00m \u001B[38;5;129;01mnot\u001B[39;00m response\u001B[38;5;241m.\u001B[39mis_redirect:\n",
      "File \u001B[1;32m~\\anaconda3\\Lib\\site-packages\\httpx\\_client.py:684\u001B[0m, in \u001B[0;36mClient.send_handling_auth\u001B[1;34m(self, request, history, auth, timeout)\u001B[0m\n\u001B[0;32m    682\u001B[0m request \u001B[38;5;241m=\u001B[39m \u001B[38;5;28mnext\u001B[39m(auth_flow)\n\u001B[0;32m    683\u001B[0m \u001B[38;5;28;01mwhile\u001B[39;00m \u001B[38;5;28;01mTrue\u001B[39;00m:\n\u001B[1;32m--> 684\u001B[0m     response \u001B[38;5;241m=\u001B[39m \u001B[38;5;28mself\u001B[39m\u001B[38;5;241m.\u001B[39msend_single_request(request, timeout)\n\u001B[0;32m    685\u001B[0m     \u001B[38;5;28;01mif\u001B[39;00m auth\u001B[38;5;241m.\u001B[39mrequires_response_body:\n\u001B[0;32m    686\u001B[0m         response\u001B[38;5;241m.\u001B[39mread()\n",
      "File \u001B[1;32m~\\anaconda3\\Lib\\site-packages\\httpx\\_client.py:714\u001B[0m, in \u001B[0;36mClient.send_single_request\u001B[1;34m(self, request, timeout)\u001B[0m\n\u001B[0;32m    705\u001B[0m transport \u001B[38;5;241m=\u001B[39m \u001B[38;5;28mself\u001B[39m\u001B[38;5;241m.\u001B[39mtransport_for_url(request\u001B[38;5;241m.\u001B[39murl)\n\u001B[0;32m    707\u001B[0m \u001B[38;5;28;01mtry\u001B[39;00m:\n\u001B[0;32m    708\u001B[0m     (\n\u001B[0;32m    709\u001B[0m         http_version,\n\u001B[0;32m    710\u001B[0m         status_code,\n\u001B[0;32m    711\u001B[0m         reason_phrase,\n\u001B[0;32m    712\u001B[0m         headers,\n\u001B[0;32m    713\u001B[0m         stream,\n\u001B[1;32m--> 714\u001B[0m     ) \u001B[38;5;241m=\u001B[39m transport\u001B[38;5;241m.\u001B[39mrequest(\n\u001B[0;32m    715\u001B[0m         request\u001B[38;5;241m.\u001B[39mmethod\u001B[38;5;241m.\u001B[39mencode(),\n\u001B[0;32m    716\u001B[0m         request\u001B[38;5;241m.\u001B[39murl\u001B[38;5;241m.\u001B[39mraw,\n\u001B[0;32m    717\u001B[0m         headers\u001B[38;5;241m=\u001B[39mrequest\u001B[38;5;241m.\u001B[39mheaders\u001B[38;5;241m.\u001B[39mraw,\n\u001B[0;32m    718\u001B[0m         stream\u001B[38;5;241m=\u001B[39mrequest\u001B[38;5;241m.\u001B[39mstream,\n\u001B[0;32m    719\u001B[0m         timeout\u001B[38;5;241m=\u001B[39mtimeout\u001B[38;5;241m.\u001B[39mas_dict(),\n\u001B[0;32m    720\u001B[0m     )\n\u001B[0;32m    721\u001B[0m \u001B[38;5;28;01mexcept\u001B[39;00m HTTPError \u001B[38;5;28;01mas\u001B[39;00m exc:\n\u001B[0;32m    722\u001B[0m     \u001B[38;5;66;03m# Add the original request to any HTTPError unless\u001B[39;00m\n\u001B[0;32m    723\u001B[0m     \u001B[38;5;66;03m# there'a already a request attached in the case of\u001B[39;00m\n\u001B[0;32m    724\u001B[0m     \u001B[38;5;66;03m# a ProxyError.\u001B[39;00m\n\u001B[0;32m    725\u001B[0m     \u001B[38;5;28;01mif\u001B[39;00m exc\u001B[38;5;241m.\u001B[39m_request \u001B[38;5;129;01mis\u001B[39;00m \u001B[38;5;28;01mNone\u001B[39;00m:\n",
      "File \u001B[1;32m~\\anaconda3\\Lib\\site-packages\\httpcore\\_sync\\connection_pool.py:152\u001B[0m, in \u001B[0;36mSyncConnectionPool.request\u001B[1;34m(self, method, url, headers, stream, timeout)\u001B[0m\n\u001B[0;32m    149\u001B[0m         logger\u001B[38;5;241m.\u001B[39mtrace(\u001B[38;5;124m\"\u001B[39m\u001B[38;5;124mreuse connection=\u001B[39m\u001B[38;5;132;01m%r\u001B[39;00m\u001B[38;5;124m\"\u001B[39m, connection)\n\u001B[0;32m    151\u001B[0m \u001B[38;5;28;01mtry\u001B[39;00m:\n\u001B[1;32m--> 152\u001B[0m     response \u001B[38;5;241m=\u001B[39m connection\u001B[38;5;241m.\u001B[39mrequest(\n\u001B[0;32m    153\u001B[0m         method, url, headers\u001B[38;5;241m=\u001B[39mheaders, stream\u001B[38;5;241m=\u001B[39mstream, timeout\u001B[38;5;241m=\u001B[39mtimeout\n\u001B[0;32m    154\u001B[0m     )\n\u001B[0;32m    155\u001B[0m \u001B[38;5;28;01mexcept\u001B[39;00m NewConnectionRequired:\n\u001B[0;32m    156\u001B[0m     connection \u001B[38;5;241m=\u001B[39m \u001B[38;5;28;01mNone\u001B[39;00m\n",
      "File \u001B[1;32m~\\anaconda3\\Lib\\site-packages\\httpcore\\_sync\\connection.py:65\u001B[0m, in \u001B[0;36mSyncHTTPConnection.request\u001B[1;34m(self, method, url, headers, stream, timeout)\u001B[0m\n\u001B[0;32m     61\u001B[0m     \u001B[38;5;28;01mif\u001B[39;00m \u001B[38;5;129;01mnot\u001B[39;00m \u001B[38;5;28mself\u001B[39m\u001B[38;5;241m.\u001B[39msocket:\n\u001B[0;32m     62\u001B[0m         logger\u001B[38;5;241m.\u001B[39mtrace(\n\u001B[0;32m     63\u001B[0m             \u001B[38;5;124m\"\u001B[39m\u001B[38;5;124mopen_socket origin=\u001B[39m\u001B[38;5;132;01m%r\u001B[39;00m\u001B[38;5;124m timeout=\u001B[39m\u001B[38;5;132;01m%r\u001B[39;00m\u001B[38;5;124m\"\u001B[39m, \u001B[38;5;28mself\u001B[39m\u001B[38;5;241m.\u001B[39morigin, timeout\n\u001B[0;32m     64\u001B[0m         )\n\u001B[1;32m---> 65\u001B[0m         \u001B[38;5;28mself\u001B[39m\u001B[38;5;241m.\u001B[39msocket \u001B[38;5;241m=\u001B[39m \u001B[38;5;28mself\u001B[39m\u001B[38;5;241m.\u001B[39m_open_socket(timeout)\n\u001B[0;32m     66\u001B[0m     \u001B[38;5;28mself\u001B[39m\u001B[38;5;241m.\u001B[39m_create_connection(\u001B[38;5;28mself\u001B[39m\u001B[38;5;241m.\u001B[39msocket)\n\u001B[0;32m     67\u001B[0m \u001B[38;5;28;01melif\u001B[39;00m \u001B[38;5;28mself\u001B[39m\u001B[38;5;241m.\u001B[39mstate \u001B[38;5;129;01min\u001B[39;00m (ConnectionState\u001B[38;5;241m.\u001B[39mREADY, ConnectionState\u001B[38;5;241m.\u001B[39mIDLE):\n",
      "File \u001B[1;32m~\\anaconda3\\Lib\\site-packages\\httpcore\\_sync\\connection.py:85\u001B[0m, in \u001B[0;36mSyncHTTPConnection._open_socket\u001B[1;34m(self, timeout)\u001B[0m\n\u001B[0;32m     83\u001B[0m ssl_context \u001B[38;5;241m=\u001B[39m \u001B[38;5;28mself\u001B[39m\u001B[38;5;241m.\u001B[39mssl_context \u001B[38;5;28;01mif\u001B[39;00m scheme \u001B[38;5;241m==\u001B[39m \u001B[38;5;124mb\u001B[39m\u001B[38;5;124m\"\u001B[39m\u001B[38;5;124mhttps\u001B[39m\u001B[38;5;124m\"\u001B[39m \u001B[38;5;28;01melse\u001B[39;00m \u001B[38;5;28;01mNone\u001B[39;00m\n\u001B[0;32m     84\u001B[0m \u001B[38;5;28;01mtry\u001B[39;00m:\n\u001B[1;32m---> 85\u001B[0m     \u001B[38;5;28;01mreturn\u001B[39;00m \u001B[38;5;28mself\u001B[39m\u001B[38;5;241m.\u001B[39mbackend\u001B[38;5;241m.\u001B[39mopen_tcp_stream(\n\u001B[0;32m     86\u001B[0m         hostname, port, ssl_context, timeout\n\u001B[0;32m     87\u001B[0m     )\n\u001B[0;32m     88\u001B[0m \u001B[38;5;28;01mexcept\u001B[39;00m \u001B[38;5;167;01mException\u001B[39;00m:\n\u001B[0;32m     89\u001B[0m     \u001B[38;5;28mself\u001B[39m\u001B[38;5;241m.\u001B[39mconnect_failed \u001B[38;5;241m=\u001B[39m \u001B[38;5;28;01mTrue\u001B[39;00m\n",
      "File \u001B[1;32m~\\anaconda3\\Lib\\site-packages\\httpcore\\_backends\\sync.py:133\u001B[0m, in \u001B[0;36mSyncBackend.open_tcp_stream\u001B[1;34m(self, hostname, port, ssl_context, timeout)\u001B[0m\n\u001B[0;32m    130\u001B[0m connect_timeout \u001B[38;5;241m=\u001B[39m timeout\u001B[38;5;241m.\u001B[39mget(\u001B[38;5;124m\"\u001B[39m\u001B[38;5;124mconnect\u001B[39m\u001B[38;5;124m\"\u001B[39m)\n\u001B[0;32m    131\u001B[0m exc_map \u001B[38;5;241m=\u001B[39m {socket\u001B[38;5;241m.\u001B[39mtimeout: ConnectTimeout, socket\u001B[38;5;241m.\u001B[39merror: ConnectError}\n\u001B[1;32m--> 133\u001B[0m \u001B[38;5;28;01mwith\u001B[39;00m map_exceptions(exc_map):\n\u001B[0;32m    134\u001B[0m     sock \u001B[38;5;241m=\u001B[39m socket\u001B[38;5;241m.\u001B[39mcreate_connection(address, connect_timeout)\n\u001B[0;32m    135\u001B[0m     \u001B[38;5;28;01mif\u001B[39;00m ssl_context \u001B[38;5;129;01mis\u001B[39;00m \u001B[38;5;129;01mnot\u001B[39;00m \u001B[38;5;28;01mNone\u001B[39;00m:\n",
      "File \u001B[1;32m~\\anaconda3\\Lib\\contextlib.py:155\u001B[0m, in \u001B[0;36m_GeneratorContextManager.__exit__\u001B[1;34m(self, typ, value, traceback)\u001B[0m\n\u001B[0;32m    153\u001B[0m     value \u001B[38;5;241m=\u001B[39m typ()\n\u001B[0;32m    154\u001B[0m \u001B[38;5;28;01mtry\u001B[39;00m:\n\u001B[1;32m--> 155\u001B[0m     \u001B[38;5;28mself\u001B[39m\u001B[38;5;241m.\u001B[39mgen\u001B[38;5;241m.\u001B[39mthrow(typ, value, traceback)\n\u001B[0;32m    156\u001B[0m \u001B[38;5;28;01mexcept\u001B[39;00m \u001B[38;5;167;01mStopIteration\u001B[39;00m \u001B[38;5;28;01mas\u001B[39;00m exc:\n\u001B[0;32m    157\u001B[0m     \u001B[38;5;66;03m# Suppress StopIteration *unless* it's the same exception that\u001B[39;00m\n\u001B[0;32m    158\u001B[0m     \u001B[38;5;66;03m# was passed to throw().  This prevents a StopIteration\u001B[39;00m\n\u001B[0;32m    159\u001B[0m     \u001B[38;5;66;03m# raised inside the \"with\" statement from being suppressed.\u001B[39;00m\n\u001B[0;32m    160\u001B[0m     \u001B[38;5;28;01mreturn\u001B[39;00m exc \u001B[38;5;129;01mis\u001B[39;00m \u001B[38;5;129;01mnot\u001B[39;00m value\n",
      "File \u001B[1;32m~\\anaconda3\\Lib\\site-packages\\httpcore\\_exceptions.py:12\u001B[0m, in \u001B[0;36mmap_exceptions\u001B[1;34m(map)\u001B[0m\n\u001B[0;32m     10\u001B[0m \u001B[38;5;28;01mfor\u001B[39;00m from_exc, to_exc \u001B[38;5;129;01min\u001B[39;00m \u001B[38;5;28mmap\u001B[39m\u001B[38;5;241m.\u001B[39mitems():\n\u001B[0;32m     11\u001B[0m     \u001B[38;5;28;01mif\u001B[39;00m \u001B[38;5;28misinstance\u001B[39m(exc, from_exc):\n\u001B[1;32m---> 12\u001B[0m         \u001B[38;5;28;01mraise\u001B[39;00m to_exc(exc) \u001B[38;5;28;01mfrom\u001B[39;00m \u001B[38;5;28;01mNone\u001B[39;00m\n\u001B[0;32m     13\u001B[0m \u001B[38;5;28;01mraise\u001B[39;00m\n",
      "\u001B[1;31mConnectError\u001B[0m: [Errno 11001] getaddrinfo failed"
     ]
    }
   ],
   "source": [
    "from googletrans import Translator\n",
    "\n",
    "\n",
    "translator = Translator()\n",
    "\n",
    "nepali_captions = {}\n",
    "for img, caption in captions_dict.items():\n",
    "    translated_caption = translator.translate(caption, src='en', dest='ne').text\n",
    "    nepali_captions[img] = translated_caption\n",
    "    # print(translated_caption)\n",
    "import json\n",
    "with open('data/nepali_image_captin_dataset/nepali_captions.json', 'w', encoding='utf-8') as f:\n",
    "  json.dump(nepali_captions, f, ensure_ascii=False, indent=4)\n",
    "print(nepali_captions)"
   ]
  },
  {
   "cell_type": "code",
   "execution_count": null,
   "id": "0108bf05",
   "metadata": {},
   "outputs": [],
   "source": [
    "image_files = list(nepali_captions.keys())"
   ]
  },
  {
   "cell_type": "code",
   "execution_count": null,
   "id": "46df5006",
   "metadata": {},
   "outputs": [],
   "source": [
    "# !pip install ipywidgets\n"
   ]
  },
  {
   "cell_type": "code",
   "execution_count": null,
   "id": "c22acd5d",
   "metadata": {},
   "outputs": [],
   "source": []
  },
  {
   "cell_type": "code",
   "execution_count": null,
   "id": "314c8ca7",
   "metadata": {},
   "outputs": [],
   "source": []
  },
  {
   "cell_type": "code",
   "execution_count": null,
   "id": "a3713eb1",
   "metadata": {},
   "outputs": [],
   "source": [
    "import os\n",
    "font_path = 'C:\\\\Users\\\\Acer\\\\ImageCaptioning\\\\NotoSansDevanagari-VariableFont_wdth,wght.ttf'\n",
    "print(os.path.isfile(font_path))  \n"
   ]
  },
  {
   "cell_type": "code",
   "execution_count": null,
   "id": "3d67b240",
   "metadata": {},
   "outputs": [],
   "source": []
  },
  {
   "cell_type": "code",
   "execution_count": null,
   "id": "f12b4db0",
   "metadata": {
    "scrolled": true
   },
   "outputs": [],
   "source": [
    "import os\n",
    "import matplotlib.pyplot as plt\n",
    "from PIL import Image\n",
    "import numpy as np\n",
    "import matplotlib.font_manager as fm\n",
    "\n",
    "#load font\n",
    "font_path = r'C:\\Users\\Acer\\ImageCaptioning\\NotoSansDevanagari-VariableFont_wdth,wght.ttf'\n",
    "\n",
    "prop = fm.FontProperties(fname=font_path)\n",
    "\n",
    "#load and display images with caption\n",
    "def display_image_with_caption(image_path, caption):\n",
    "    if os.path.exists(image_path):   \n",
    "        img = Image.open(image_path)\n",
    "        plt.imshow(img)\n",
    "        plt.title(caption, fontproperties=prop)\n",
    "        plt.axis('off')\n",
    "        plt.show()\n",
    "    else:\n",
    "        print(f\"File not found:{image_path}\")\n",
    "\n",
    "images_path = 'C:\\\\Users\\\\Acer\\\\ImageCaptioning\\\\images_file'\n",
    "\n",
    "\n",
    "\n",
    "#display\n",
    "for image_files, caption in nepali_captions.items():\n",
    "  display_image_with_caption(os.path.join(images_path,image_files), caption)"
   ]
  },
  {
   "cell_type": "markdown",
   "id": "bbd4a511",
   "metadata": {},
   "source": [
    "### PRE-PROCESSING\n"
   ]
  },
  {
   "cell_type": "code",
   "execution_count": null,
   "id": "8d9963c0",
   "metadata": {},
   "outputs": [],
   "source": [
    "from tensorflow.keras.preprocessing.image import load_img, img_to_array\n",
    "from tensorflow.keras.applications.vgg16 import preprocess_input"
   ]
  },
  {
   "cell_type": "code",
   "execution_count": null,
   "id": "44e28ffd",
   "metadata": {},
   "outputs": [],
   "source": [
    "def preprocess_image(image_path):\n",
    "    img = load_img(image_path, target_size =(224,224))\n",
    "    img = img_to_array(img)\n",
    "    img = np.expand_dims(img, axis = 0)\n",
    "    img = preprocess_input(img)\n",
    "    return img\n",
    "\n",
    "#preprocessing\n",
    "image_features = {img: preprocess_image(os.path.join(images_path, img)) for img in nepali_captions.keys()}\n",
    "\n",
    "for image_files, caption in nepali_captions.items():\n",
    "    display_image_with_caption(os.path.join(images_path,image_files), caption)"
   ]
  },
  {
   "cell_type": "markdown",
   "id": "aac9e827",
   "metadata": {},
   "source": [
    "#### Caption Preprocessing"
   ]
  },
  {
   "cell_type": "code",
   "execution_count": null,
   "id": "fa2d3ff2",
   "metadata": {},
   "outputs": [],
   "source": []
  },
  {
   "cell_type": "code",
   "execution_count": null,
   "id": "717570f4",
   "metadata": {},
   "outputs": [],
   "source": [
    "\n"
   ]
  },
  {
   "cell_type": "code",
   "execution_count": null,
   "id": "2ded3e16",
   "metadata": {},
   "outputs": [],
   "source": []
  },
  {
   "cell_type": "code",
   "execution_count": null,
   "id": "49c8cccf",
   "metadata": {},
   "outputs": [],
   "source": [
    "!pip install indic-nlp-library\n",
    "\n",
    "\n",
    "import nltk\n",
    "# nltk.download('punkt')\n",
    "from indicnlp.tokenize import indic_tokenize\n",
    "\n",
    "def tokenize_caption(caption):\n",
    "    return indic_tokenize.trivial_tokenize(caption)\n",
    "\n",
    "tokenized_captions = {img: tokenize_caption(caption) for img, caption in nepali_captions.items()}\n",
    "\n",
    "#build vocabulary\n",
    "from collections import Counter\n",
    "\n",
    "def build_vocab(captions):\n",
    "    counter = Counter()\n",
    "    for caption in captions.values():\n",
    "        counter.update(caption)\n",
    "    return {word: idx for idx, (word, _) in enumerate(counter.items(), start=1)}\n",
    "\n",
    "vocab = build_vocab(tokenized_captions)"
   ]
  },
  {
   "cell_type": "code",
   "execution_count": null,
   "id": "56592f44",
   "metadata": {},
   "outputs": [],
   "source": [
    "!pip show indic-nlp-library\n",
    "\n"
   ]
  },
  {
   "cell_type": "code",
   "execution_count": null,
   "id": "0fb6ad42",
   "metadata": {},
   "outputs": [],
   "source": []
  },
  {
   "cell_type": "code",
   "execution_count": null,
   "id": "498f7756",
   "metadata": {},
   "outputs": [],
   "source": []
  },
  {
   "cell_type": "code",
   "execution_count": null,
   "id": "51b5dabe",
   "metadata": {},
   "outputs": [],
   "source": []
  },
  {
   "cell_type": "code",
   "execution_count": null,
   "id": "9972dc6f",
   "metadata": {},
   "outputs": [],
   "source": []
  },
  {
   "cell_type": "code",
   "execution_count": null,
   "id": "6ea0d595",
   "metadata": {},
   "outputs": [],
   "source": []
  },
  {
   "cell_type": "code",
   "execution_count": null,
   "id": "563913cd",
   "metadata": {},
   "outputs": [],
   "source": []
  },
  {
   "cell_type": "code",
   "execution_count": null,
   "id": "7e9eed71",
   "metadata": {},
   "outputs": [],
   "source": []
  },
  {
   "cell_type": "code",
   "execution_count": null,
   "id": "47fdaf83",
   "metadata": {},
   "outputs": [],
   "source": []
  },
  {
   "cell_type": "code",
   "execution_count": null,
   "id": "83cb5704",
   "metadata": {},
   "outputs": [],
   "source": []
  },
  {
   "cell_type": "code",
   "execution_count": null,
   "id": "764762ec",
   "metadata": {},
   "outputs": [],
   "source": []
  }
 ],
 "metadata": {
  "kernelspec": {
   "display_name": "Python 3 (ipykernel)",
   "language": "python",
   "name": "python3"
  },
  "language_info": {
   "codemirror_mode": {
    "name": "ipython",
    "version": 3
   },
   "file_extension": ".py",
   "mimetype": "text/x-python",
   "name": "python",
   "nbconvert_exporter": "python",
   "pygments_lexer": "ipython3",
   "version": "3.11.5"
  }
 },
 "nbformat": 4,
 "nbformat_minor": 5
}
